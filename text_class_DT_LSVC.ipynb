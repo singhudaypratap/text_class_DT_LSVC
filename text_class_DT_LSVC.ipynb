{
  "nbformat": 4,
  "nbformat_minor": 0,
  "metadata": {
    "colab": {
      "provenance": []
    },
    "kernelspec": {
      "name": "python3",
      "display_name": "Python 3"
    },
    "language_info": {
      "name": "python"
    }
  },
  "cells": [
    {
      "cell_type": "code",
      "execution_count": 1,
      "metadata": {
        "colab": {
          "base_uri": "https://localhost:8080/"
        },
        "id": "DoNWir8pCcSr",
        "outputId": "ef976c85-c31e-4c85-a3b0-f88c89a0aa0f"
      },
      "outputs": [
        {
          "output_type": "stream",
          "name": "stdout",
          "text": [
            "Accuracy: 0.4960212201591512\n"
          ]
        }
      ],
      "source": [
        "from sklearn.datasets import fetch_20newsgroups\n",
        "from sklearn.feature_extraction.text import CountVectorizer\n",
        "from sklearn.tree import DecisionTreeClassifier\n",
        "from sklearn.metrics import accuracy_score\n",
        "\n",
        "# Load the 20 Newsgroups dataset\n",
        "data = fetch_20newsgroups(subset='all', remove=('headers', 'footers', 'quotes'))\n",
        "\n",
        "# Convert the text data into numerical features\n",
        "vectorizer = CountVectorizer(stop_words='english')\n",
        "X = vectorizer.fit_transform(data.data)\n",
        "y = data.target\n",
        "\n",
        "# Split the data into training and testing sets\n",
        "train_size = int(0.8 * len(data.data))\n",
        "X_train = X[:train_size]\n",
        "y_train = y[:train_size]\n",
        "X_test = X[train_size:]\n",
        "y_test = y[train_size:]\n",
        "\n",
        "# Train a Decision Tree classifier on the training data\n",
        "clf = DecisionTreeClassifier()\n",
        "clf.fit(X_train, y_train)\n",
        "\n",
        "# Test the classifier on the testing data and compute accuracy\n",
        "y_pred = clf.predict(X_test)\n",
        "acc = accuracy_score(y_test, y_pred)\n",
        "print('Accuracy:', acc)\n"
      ]
    },
    {
      "cell_type": "markdown",
      "source": [
        "In this example, we're using the DecisionTreeClassifier class from scikit-learn's tree module to train a decision tree on the 20 Newsgroups dataset. We're using CountVectorizer from the feature_extraction.text module to convert the text data into numerical features. We're also using accuracy_score from the metrics module to compute the accuracy of the classifier on the testing data."
      ],
      "metadata": {
        "id": "ncSGTeOZDBxz"
      }
    },
    {
      "cell_type": "code",
      "source": [
        "from sklearn.datasets import fetch_20newsgroups\n",
        "from sklearn.feature_extraction.text import TfidfVectorizer\n",
        "from sklearn.svm import LinearSVC\n",
        "from sklearn.metrics import accuracy_score\n",
        "\n",
        "# Load the 20 Newsgroups dataset\n",
        "data = fetch_20newsgroups(subset='all', remove=('headers', 'footers', 'quotes'))\n",
        "\n",
        "# Convert the text data into numerical features\n",
        "vectorizer = TfidfVectorizer(stop_words='english')\n",
        "X = vectorizer.fit_transform(data.data)\n",
        "y = data.target\n",
        "\n",
        "# Split the data into training and testing sets\n",
        "train_size = int(0.8 * len(data.data))\n",
        "X_train = X[:train_size]\n",
        "y_train = y[:train_size]\n",
        "X_test = X[train_size:]\n",
        "y_test = y[train_size:]\n",
        "\n",
        "# Train a Support Vector Machine classifier on the training data\n",
        "clf = LinearSVC()\n",
        "clf.fit(X_train, y_train)\n",
        "\n",
        "# Test the classifier on the testing data and compute accuracy\n",
        "y_pred = clf.predict(X_test)\n",
        "acc = accuracy_score(y_test, y_pred)\n",
        "print('Accuracy:', acc)\n"
      ],
      "metadata": {
        "colab": {
          "base_uri": "https://localhost:8080/"
        },
        "id": "fPwvP-BQCdbT",
        "outputId": "ac01dce0-731f-4c3a-dbd5-761fe4132bd0"
      },
      "execution_count": 2,
      "outputs": [
        {
          "output_type": "stream",
          "name": "stdout",
          "text": [
            "Accuracy: 0.7618037135278515\n"
          ]
        }
      ]
    },
    {
      "cell_type": "markdown",
      "source": [
        "In this example, we're using the LinearSVC class from scikit-learn's svm module to train a support vector machine on the 20 Newsgroups dataset. We're using TfidfVectorizer from the feature_extraction.text module to convert the text data into numerical features using term frequency-inverse document frequency (TF-IDF) weighting. We're also using accuracy_score from the metrics module to compute the accuracy of the classifier on the testing data."
      ],
      "metadata": {
        "id": "KRjn02SZDODX"
      }
    }
  ]
}